{
 "cells": [
  {
   "cell_type": "code",
   "execution_count": null,
   "metadata": {},
   "outputs": [],
   "source": [
    "import pandas as pd\n",
    "#load the data from the csv files\n",
    "training_data = pd.read_csv('wine_training_data.csv')"
   ]
  },
  {
   "cell_type": "code",
   "execution_count": null,
   "metadata": {},
   "outputs": [],
   "source": [
    "#make all words lower and remove punctuation and lemmitize the description column in the training data and remove stop words\n",
    "import nltk\n",
    "from nltk.corpus import stopwords\n",
    "from nltk.tokenize import word_tokenize\n",
    "from nltk.stem import WordNetLemmatizer\n",
    "import string\n",
    "\n",
    "\n",
    "stop_words = set(stopwords.words('english'))\n",
    "lemmatizer = WordNetLemmatizer()\n",
    "\n",
    "def clean_description(description):\n",
    "    description = description.lower()\n",
    "    description = description.translate(str.maketrans('', '', string.punctuation))\n",
    "    words = word_tokenize(description)\n",
    "    words = [lemmatizer.lemmatize(word) for word in words if word not in stop_words]\n",
    "    return ' '.join(words)\n"
   ]
  },
  {
   "cell_type": "code",
   "execution_count": null,
   "metadata": {},
   "outputs": [],
   "source": [
    "\n",
    "training_data['description'] = training_data['description'].apply(clean_description)\n",
    "\n",
    "#remove all prices or references to prices in the description column\n",
    "training_data['description'] = training_data['description'].str.replace(r'\\$\\d+\\.?\\d*', '')\n",
    "\n",
    "#r"
   ]
  },
  {
   "cell_type": "code",
   "execution_count": null,
   "metadata": {},
   "outputs": [],
   "source": [
    "import re\n",
    "\n",
    "for index, row in training_data.iterrows():\n",
    "    cleaned_description = re.sub(r'[0-9]', '', row['description'])\n",
    "    training_data.at[index, 'description'] = cleaned_description\n",
    "\n"
   ]
  },
  {
   "cell_type": "code",
   "execution_count": null,
   "metadata": {},
   "outputs": [],
   "source": [
    "#remove any reference to any word in the title column from the description column\n",
    "#make a new column that that is the title column but cleaned with the clean_description function    \n",
    "#if title is NA the set it to empty string\n",
    "training_data['title'] = training_data['title'].fillna('')\n",
    "#if winery is NA the set it to empty string\n",
    "training_data['winery'] = training_data['winery'].fillna('')\n",
    "training_data['cleaned_title'] = training_data['title'].apply(clean_description)\n",
    "#remove any reference to the title from the description\n",
    "for index, row in training_data.iterrows():\n",
    "    cleaned_description = re.sub(row['cleaned_title'], '', row['description'])\n",
    "    training_data.at[index, 'description'] = cleaned_description\n",
    "    #loop through every word in the title and remove it from the description\n",
    "    for word in row['cleaned_title'].split():\n",
    "        cleaned_description = re.sub(word, '', row['description'])\n",
    "        training_data.at[index, 'description'] = cleaned_description\n",
    "\n",
    "#repeat this process for the winery\n",
    "training_data['cleaned_winery'] = training_data['winery'].apply(clean_description)\n",
    "for index, row in training_data.iterrows():\n",
    "    cleaned_description = re.sub(row['cleaned_winery'], '', row['description'])\n",
    "    training_data.at[index, 'description'] = cleaned_description\n",
    "    for word in row['cleaned_winery'].split():\n",
    "        cleaned_description = re.sub(word, '', row['description'])\n",
    "        training_data.at[index, 'description'] = cleaned_description"
   ]
  },
  {
   "cell_type": "code",
   "execution_count": null,
   "metadata": {},
   "outputs": [],
   "source": []
  }
 ],
 "metadata": {
  "language_info": {
   "name": "python"
  }
 },
 "nbformat": 4,
 "nbformat_minor": 2
}
